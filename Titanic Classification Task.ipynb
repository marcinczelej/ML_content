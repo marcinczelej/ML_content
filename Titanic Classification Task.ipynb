{
 "cells": [
  {
   "cell_type": "code",
   "execution_count": null,
   "metadata": {
    "colab": {
     "base_uri": "https://localhost:8080/",
     "height": 35
    },
    "colab_type": "code",
    "id": "vzev0NoDLB1G",
    "outputId": "bbf9cb55-3d75-4f3f-aec4-79816d44f610"
   },
   "outputs": [
    {
     "name": "stdout",
     "output_type": "stream",
     "text": [
      "fatal: destination path 'data' already exists and is not an empty directory.\n"
     ]
    }
   ],
   "source": [
    "import os\n",
    "\n",
    "import sklearn\n",
    "\n",
    "import pandas as pd\n",
    "\n",
    "import matplotlib.pyplot as plt\n",
    "\n",
    "\n",
    "!git clone https://github.com/mizzmir/data.git"
   ]
  },
  {
   "cell_type": "markdown",
   "metadata": {
    "colab_type": "text",
    "id": "wzZkgFCGLsVV"
   },
   "source": [
    "`import sklearn`\n",
    "\n",
    "sklearn - python library with machine learning tools ( regression/clasification models, grid search, train/test split , metrics etc ...\n",
    "https://scikit-learn.org/stable/supervised_learning.html#supervised-learning\n",
    "\n",
    "`import pandas as pd`\n",
    "\n",
    "pandas - library to read data from csv/excel files. Everything that is connected with data wrangling and preprocessing ( statistics etc, not for example word reprocessing)\n",
    "basic pandas tutorial: https://www.learndatasci.com/tutorials/python-pandas-tutorial-complete-introduction-for-beginners/\n",
    "\n",
    "`import matplotlib.pyplot as plt`\n",
    "\n",
    "matplot - library used for plotting data"
   ]
  },
  {
   "cell_type": "code",
   "execution_count": null,
   "metadata": {
    "colab": {
     "base_uri": "https://localhost:8080/",
     "height": 225
    },
    "colab_type": "code",
    "id": "SXXyFIryLZuT",
    "outputId": "695e42e2-3398-4f75-887f-27eb1902d864"
   },
   "outputs": [
    {
     "name": "stdout",
     "output_type": "stream",
     "text": [
      "(891, 12)\n"
     ]
    },
    {
     "data": {
      "text/html": [
       "<div>\n",
       "<style scoped>\n",
       "    .dataframe tbody tr th:only-of-type {\n",
       "        vertical-align: middle;\n",
       "    }\n",
       "\n",
       "    .dataframe tbody tr th {\n",
       "        vertical-align: top;\n",
       "    }\n",
       "\n",
       "    .dataframe thead th {\n",
       "        text-align: right;\n",
       "    }\n",
       "</style>\n",
       "<table border=\"1\" class=\"dataframe\">\n",
       "  <thead>\n",
       "    <tr style=\"text-align: right;\">\n",
       "      <th></th>\n",
       "      <th>PassengerId</th>\n",
       "      <th>Survived</th>\n",
       "      <th>Pclass</th>\n",
       "      <th>Name</th>\n",
       "      <th>Sex</th>\n",
       "      <th>Age</th>\n",
       "      <th>SibSp</th>\n",
       "      <th>Parch</th>\n",
       "      <th>Ticket</th>\n",
       "      <th>Fare</th>\n",
       "      <th>Cabin</th>\n",
       "      <th>Embarked</th>\n",
       "    </tr>\n",
       "  </thead>\n",
       "  <tbody>\n",
       "    <tr>\n",
       "      <th>0</th>\n",
       "      <td>1</td>\n",
       "      <td>0</td>\n",
       "      <td>3</td>\n",
       "      <td>Braund, Mr. Owen Harris</td>\n",
       "      <td>male</td>\n",
       "      <td>22.0</td>\n",
       "      <td>1</td>\n",
       "      <td>0</td>\n",
       "      <td>A/5 21171</td>\n",
       "      <td>7.2500</td>\n",
       "      <td>NaN</td>\n",
       "      <td>S</td>\n",
       "    </tr>\n",
       "    <tr>\n",
       "      <th>1</th>\n",
       "      <td>2</td>\n",
       "      <td>1</td>\n",
       "      <td>1</td>\n",
       "      <td>Cumings, Mrs. John Bradley (Florence Briggs Th...</td>\n",
       "      <td>female</td>\n",
       "      <td>38.0</td>\n",
       "      <td>1</td>\n",
       "      <td>0</td>\n",
       "      <td>PC 17599</td>\n",
       "      <td>71.2833</td>\n",
       "      <td>C85</td>\n",
       "      <td>C</td>\n",
       "    </tr>\n",
       "    <tr>\n",
       "      <th>2</th>\n",
       "      <td>3</td>\n",
       "      <td>1</td>\n",
       "      <td>3</td>\n",
       "      <td>Heikkinen, Miss. Laina</td>\n",
       "      <td>female</td>\n",
       "      <td>26.0</td>\n",
       "      <td>0</td>\n",
       "      <td>0</td>\n",
       "      <td>STON/O2. 3101282</td>\n",
       "      <td>7.9250</td>\n",
       "      <td>NaN</td>\n",
       "      <td>S</td>\n",
       "    </tr>\n",
       "    <tr>\n",
       "      <th>3</th>\n",
       "      <td>4</td>\n",
       "      <td>1</td>\n",
       "      <td>1</td>\n",
       "      <td>Futrelle, Mrs. Jacques Heath (Lily May Peel)</td>\n",
       "      <td>female</td>\n",
       "      <td>35.0</td>\n",
       "      <td>1</td>\n",
       "      <td>0</td>\n",
       "      <td>113803</td>\n",
       "      <td>53.1000</td>\n",
       "      <td>C123</td>\n",
       "      <td>S</td>\n",
       "    </tr>\n",
       "    <tr>\n",
       "      <th>4</th>\n",
       "      <td>5</td>\n",
       "      <td>0</td>\n",
       "      <td>3</td>\n",
       "      <td>Allen, Mr. William Henry</td>\n",
       "      <td>male</td>\n",
       "      <td>35.0</td>\n",
       "      <td>0</td>\n",
       "      <td>0</td>\n",
       "      <td>373450</td>\n",
       "      <td>8.0500</td>\n",
       "      <td>NaN</td>\n",
       "      <td>S</td>\n",
       "    </tr>\n",
       "  </tbody>\n",
       "</table>\n",
       "</div>"
      ],
      "text/plain": [
       "   PassengerId  Survived  Pclass  ...     Fare Cabin  Embarked\n",
       "0            1         0       3  ...   7.2500   NaN         S\n",
       "1            2         1       1  ...  71.2833   C85         C\n",
       "2            3         1       3  ...   7.9250   NaN         S\n",
       "3            4         1       1  ...  53.1000  C123         S\n",
       "4            5         0       3  ...   8.0500   NaN         S\n",
       "\n",
       "[5 rows x 12 columns]"
      ]
     },
     "execution_count": 9,
     "metadata": {
      "tags": []
     },
     "output_type": "execute_result"
    }
   ],
   "source": [
    "data_dir = \"./data/titanicData\"\n",
    "data_path = os.path.join(data_dir, \"train.csv\")\n",
    "\n",
    "#\n",
    "# reading titanic passagers data write into csv file and displaying first 5 frames\n",
    "# titanic data is data that shows some passanger data and information does this passenger survived or not.\n",
    "# As you can see we have 'Survived' column, that`s out aim, we want ot try predict, rest is our input data\n",
    "#\n",
    "dataframe = pd.read_csv(data_path)\n",
    "print(dataframe.shape)\n",
    "dataframe.head()"
   ]
  },
  {
   "cell_type": "markdown",
   "metadata": {
    "colab_type": "text",
    "id": "y6E3B_3RPAYi"
   },
   "source": [
    "We can pass this data directly to Neural network or machine learning alghoritm but we can do some cleaning due too:\n",
    "\n",
    "\n",
    "1.   Present of Null elements ( elements not filled )\n",
    "2.   Some data doesnt bring nothing to our analysis (like Name, PassengerId etc..)\n",
    "3.   It`s good practice to convert string variables into integers/floats/numeric data, it can speed up computation and result in better predictions, due to processing numers not objects data\n",
    "4.   Some data cna be numericas data that can spread from for example 0 to 80000. It`s good to analyse those data and put them into some ranges to make classification better\n",
    "5.   Think about what metric to use: accuracy, precission, recall, f1/f_beta score, ROC\n",
    "\n",
    "\n"
   ]
  },
  {
   "cell_type": "code",
   "execution_count": null,
   "metadata": {
    "colab": {
     "base_uri": "https://localhost:8080/",
     "height": 55
    },
    "colab_type": "code",
    "id": "L2Csol-wOFbC",
    "outputId": "1b6b47ea-27ca-46b6-b8ab-382a72304084"
   },
   "outputs": [
    {
     "data": {
      "text/plain": [
       "'\\nchecking of null elements cna be done using isnull method from pandas library\\nIt will only get us information is given data is null, but in shape of ugly table\\nTO get more meaningfull information it has to be used with pandas sum() method\\n'"
      ]
     },
     "execution_count": 10,
     "metadata": {
      "tags": []
     },
     "output_type": "execute_result"
    }
   ],
   "source": [
    "'''\n",
    "checking of null elements cna be done using isnull method from pandas library\n",
    "It will only get us information is given data is null, but in shape of ugly table\n",
    "TO get more meaningfull information it has to be used with pandas sum() method\n",
    "\n",
    "To get statistic information about data in dataframe use describe() method\n",
    "\n",
    "we can get single column data using \n",
    "\n",
    "dataframe['COLUMN NAME']\n",
    "\n",
    "we can get two columns data , print only two columns by using\n",
    "\n",
    "dataframe[['FIRST_COL', 'SECOND_COL']]\n",
    "'''\n",
    "\n",
    "# TODO: \n",
    "# check if there are any null data in dataframe\n",
    "\n",
    "# put code here\n",
    "\n",
    "# TODO\n",
    "# print statistical data about dataset\n"
   ]
  },
  {
   "cell_type": "code",
   "execution_count": null,
   "metadata": {
    "colab": {
     "base_uri": "https://localhost:8080/",
     "height": 55
    },
    "colab_type": "code",
    "id": "Z1lTLO9HRJoI",
    "outputId": "faf04509-afa1-4c54-bdaa-fed3c65dc321"
   },
   "outputs": [
    {
     "data": {
      "text/plain": [
       "\"\\nWhen we identify null data we have two options:\\n- get rid of them \\n- fill them with some values\\n\\nAll methods that operates on dataframe are under : https://pandas.pydata.org/pandas-docs/stable/reference/frame.html\\n\\nAs for first option removing of data can be done using pandas drop(columns=['Col_Name_1', 'Col_name_2', ...], inplace=True/False)\\n\\nAs for second option it depends from distribution etc... Safest way when dealing with numerical data is to use median of values in given column.\\nIn case of string data most common elements in given column ( mode() method gives most common element mode()[0] will give value of this element)\\nOr use some regression to figure out what to put\\n\""
      ]
     },
     "execution_count": 11,
     "metadata": {
      "tags": []
     },
     "output_type": "execute_result"
    }
   ],
   "source": [
    "'''\n",
    "When we identify null data we have two options:\n",
    "- get rid of them \n",
    "- fill them with some values\n",
    "\n",
    "All methods that operates on dataframe are under : https://pandas.pydata.org/pandas-docs/stable/reference/frame.html\n",
    "\n",
    "As for first option removing of data can be done using pandas drop(columns=['Col_Name_1', 'Col_name_2', ...], inplace=True/False)\n",
    "\n",
    "As for second option it depends from distribution etc... Safest way when dealing with numerical data is to use median of values in given column.\n",
    "In case of string data most common elements in given column ( mode() method gives most common element mode()[0] will give value of this element)\n",
    "Or use some regression to figure out what to put\n",
    "method: fillna(...)\n",
    "\n",
    "for example \n",
    "dataframe['COL_NAME'].fillna(VALUE_TO_FILL_WITH, inplace=True/False)\n",
    "'''\n",
    "\n",
    "# TODO\n",
    "# get rid of all null values using first or second method, your choice\n",
    "\n",
    "# put code here"
   ]
  },
  {
   "cell_type": "code",
   "execution_count": null,
   "metadata": {
    "colab": {
     "base_uri": "https://localhost:8080/",
     "height": 55
    },
    "colab_type": "code",
    "id": "pamD1IlXTiVj",
    "outputId": "5cd0ae1d-c404-4288-86db-eba57e94dd1c"
   },
   "outputs": [
    {
     "data": {
      "text/plain": [
       "'\\nIt`s good idea to plot histograms how given data is relevant for our estimation goal, itn this case doeas given person survive or not from titanic\\nto plot histograms we can use two libraries:\\n\\nimport seaborn from sns \\n\\nsns.set()\\nsns.distplot(dataframe[\\'Fare\\'])\\n\\nIt will print \\'Fare\\' column values on histogram\\n\\nimport  matplotlib.pyplot as plt\\n\\nplt.hist(...)\\nhttps://matplotlib.org/3.1.1/api/_as_gen/matplotlib.pyplot.hist.html\\n\\nin order to print given column:\\n\\nplt.figure()\\nplt.hist(x=dataframe[\\'Fare\\'], label=[\"Fare\"])\\n\\nif in pandas we want print given column when some condition is present for example we want print histogram of \\'Age\\' column of only passengers that survived\\n\\nplt.hist(x=dataframe[CONDITION][COLUMN_WE_WANT_TO_PRINT])\\nplt.hist(x=dataframe[dataframe[\\'Survived\\']==1][\\'Age\\'])\\n\\nthis tells us : \\n\\nx is (=) dataframe (dataframe ) that have survived==True ([dataframe[\\'Survived\\']==1]) column \\'Age\\' ([\\'Age\\'])\\n\\nwe can also print two plots on one plot for exaple stacked survived and no survived based on age \\n\\nplt.hist(x = [SURVIVED_DATA, DEAD_DATA],\\n        stacked=True, color = [\\'g\\',\\'r\\'], label=[\\'Survived\\', \\'Dead\\'])\\nplt.title(\"Survived Age\")\\nplt.legend()\\n\\n'"
      ]
     },
     "execution_count": 15,
     "metadata": {
      "tags": []
     },
     "output_type": "execute_result"
    }
   ],
   "source": [
    "'''\n",
    "It`s good idea to plot histograms how given data is relevant for our estimation goal, itn this case doeas given person survive or not from titanic\n",
    "to plot histograms we can use two libraries:\n",
    "\n",
    "import seaborn from sns \n",
    "\n",
    "sns.set()\n",
    "sns.distplot(dataframe['Fare'])\n",
    "\n",
    "It will print 'Fare' column values on histogram\n",
    "\n",
    "import  matplotlib.pyplot as plt\n",
    "\n",
    "plt.hist(...)\n",
    "https://matplotlib.org/3.1.1/api/_as_gen/matplotlib.pyplot.hist.html\n",
    "\n",
    "in order to print given column:\n",
    "\n",
    "plt.figure()\n",
    "plt.hist(x=dataframe['Fare'], label=[\"Fare\"])\n",
    "\n",
    "if in pandas we want print given column when some condition is present for example we want print histogram of 'Age' column of only passengers that survived\n",
    "\n",
    "plt.hist(x=dataframe[CONDITION][COLUMN_WE_WANT_TO_PRINT])\n",
    "plt.hist(x=dataframe[dataframe['Survived']==1]['Age'])\n",
    "\n",
    "this tells us : \n",
    "\n",
    "x is (=) dataframe (dataframe ) that have survived==True ([dataframe['Survived']==1]) column 'Age' (['Age'])\n",
    "\n",
    "we can also print two plots on one plot for exaple stacked survived and no survived based on age \n",
    "\n",
    "plt.hist(x = [SURVIVED_DATA, DEAD_DATA],\n",
    "        stacked=True, color = ['g','r'], label=['Survived', 'Dead'])\n",
    "plt.title(\"Survived Age\")\n",
    "plt.legend()\n",
    "\n",
    "'''\n",
    "\n",
    "# TODO\n",
    "# plot data and analyse them to get info about what can be relevand and what not, what range of given columns is relevant if we wnat to make ranges for some columns\n",
    "\n",
    "# put code here"
   ]
  },
  {
   "cell_type": "code",
   "execution_count": null,
   "metadata": {
    "colab": {},
    "colab_type": "code",
    "id": "QCl0IN5LV9gA"
   },
   "outputs": [],
   "source": [
    "'''\n",
    "  We can get one more metric to get informations about what datas are relevant and what doesn`t. We can get mean survival rate for given column/feature.\n",
    "  If mean of for example male and woman is the saam, than this can tell us that they have average same chance to survive, in this canse it`s worth to think\n",
    "  maybe we can drop this feature?\n",
    "\n",
    "  to do this we can use groupby(...) method from pandas\n",
    "  if we want to sort values we can than use .sort_values(...) method\n",
    "\n",
    "  for example to get mean survival rate of feature X we can get\n",
    "\n",
    "  dataframe[[COL_1, COL_2]]. groupby(COL_1, as_index=True/False).mean() \n",
    "'''\n",
    "\n",
    "# TODO\n",
    "# get statistical information about mean survival rate, and think about it, what matters and what not, and why?\n",
    "# what should we do before we can take this statistic into consideration (for example 'Fare' column means)\n",
    "\n",
    "'''\n",
    "  To make bins for data we can use pandas cut(...) method \n",
    "  https://pandas.pydata.org/pandas-docs/stable/reference/api/pandas.cut.html?highlight=cut#pandas.cut\n",
    "  Thats why previous steps are important in analysis, so we can see what ranges matters\n",
    "'''"
   ]
  },
  {
   "cell_type": "code",
   "execution_count": null,
   "metadata": {
    "colab": {},
    "colab_type": "code",
    "id": "Bd9ae2UoSx9D"
   },
   "outputs": [],
   "source": [
    "# TODO \n",
    "# get rid of columns that you think are not relevant for survival of people ( maybe all things matter, then leave all )\n",
    "\n",
    "# put code here"
   ]
  },
  {
   "cell_type": "code",
   "execution_count": null,
   "metadata": {
    "colab": {},
    "colab_type": "code",
    "id": "yl-NGWecYw1B"
   },
   "outputs": [],
   "source": [
    "# TODO\n",
    "# change string data into numerical datas using replace(...) method from pandas library or leave it as you wish\n",
    "# for example df.replace({0: 10, 1: 100}) will replace all 0 with 10 and all 1 with 100 ( using dictionary )\n",
    "\n",
    "# put code here"
   ]
  },
  {
   "cell_type": "code",
   "execution_count": null,
   "metadata": {
    "colab": {},
    "colab_type": "code",
    "id": "vJcSlr3KZXmy"
   },
   "outputs": [],
   "source": [
    "# TODO\n",
    "# take Survived column from dataframe as target_predictions/ desired output\n",
    "# remove it from dataframe and save it as trainining input\n",
    "# split data into train/test set using\n",
    "#                  sklearn.model_selection.train_test_split\n",
    "# with split rate you want\n",
    "\n",
    "# think what metric to take : accuracy/precission/recall/ROC/PR curve/ROC AUC and why"
   ]
  },
  {
   "cell_type": "code",
   "execution_count": null,
   "metadata": {
    "colab": {
     "base_uri": "https://localhost:8080/",
     "height": 55
    },
    "colab_type": "code",
    "id": "-gyXxHQoZy0i",
    "outputId": "c20562bf-42f1-424f-a78b-3284197074d9"
   },
   "outputs": [
    {
     "data": {
      "text/plain": [
       "'\\nImplement neural network that will be trained using train dataset part \\ntrain it and evaluate on test dataset\\nThen try to optimize it to get better results\\n\\nTIP: to get better results/ more meaningfull you can use K-Folding\\nhttps://scikit-learn.org/stable/modules/generated/sklearn.model_selection.KFold.html?highlight=kfold#sklearn.model_selection.KFold\\n\\n'"
      ]
     },
     "execution_count": 21,
     "metadata": {
      "tags": []
     },
     "output_type": "execute_result"
    }
   ],
   "source": [
    "'''\n",
    "Implelement whole pipeline to get best results using classic ML techniques\n",
    "try to find best model/models/ensemble of models to solve this\n",
    "maybe try to use some external library like xgBoost\n",
    "\n",
    "try to get better plots with seaborn library\n",
    "'''\n"
   ]
  }
 ],
 "metadata": {
  "colab": {
   "collapsed_sections": [],
   "name": "ML Classification Task.ipynb",
   "provenance": []
  },
  "kernelspec": {
   "display_name": "Python 3",
   "language": "python",
   "name": "python3"
  },
  "language_info": {
   "codemirror_mode": {
    "name": "ipython",
    "version": 3
   },
   "file_extension": ".py",
   "mimetype": "text/x-python",
   "name": "python",
   "nbconvert_exporter": "python",
   "pygments_lexer": "ipython3",
   "version": "3.6.9"
  }
 },
 "nbformat": 4,
 "nbformat_minor": 4
}
